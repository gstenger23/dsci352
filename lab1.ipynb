{
  "cells": [
    {
      "cell_type": "markdown",
      "metadata": {
        "id": "view-in-github",
        "colab_type": "text"
      },
      "source": [
        "<a href=\"https://colab.research.google.com/github/gstenger23/dsci352/blob/main/lab1.ipynb\" target=\"_parent\"><img src=\"https://colab.research.google.com/assets/colab-badge.svg\" alt=\"Open In Colab\"/></a>"
      ]
    },
    {
      "cell_type": "code",
      "execution_count": 1,
      "metadata": {
        "colab": {
          "base_uri": "https://localhost:8080/"
        },
        "id": "TfjW4RkxOJKz",
        "outputId": "75c14299-7221-4cb2-d781-98369968dc1a"
      },
      "outputs": [
        {
          "output_type": "stream",
          "name": "stderr",
          "text": [
            "/usr/local/lib/python3.7/dist-packages/statsmodels/tools/_testing.py:19: FutureWarning: pandas.util.testing is deprecated. Use the functions in the public API at pandas.testing instead.\n",
            "  import pandas.util.testing as tm\n"
          ]
        }
      ],
      "source": [
        "import numpy as np\n",
        "import pandas as pd\n",
        "import statsmodels.api as sm\n",
        "import seaborn as sns\n",
        "import matplotlib.pyplot as plt"
      ]
    },
    {
      "cell_type": "code",
      "source": [
        "# linking to drive to access data\n",
        "from google.colab import drive\n",
        "drive.mount('/content/drive')"
      ],
      "metadata": {
        "colab": {
          "base_uri": "https://localhost:8080/"
        },
        "id": "0TjljYyhQj1e",
        "outputId": "dbe187cf-9ed9-47e5-97c8-88b3c42aafce"
      },
      "execution_count": 3,
      "outputs": [
        {
          "output_type": "stream",
          "name": "stdout",
          "text": [
            "Mounted at /content/drive\n"
          ]
        }
      ]
    },
    {
      "cell_type": "code",
      "execution_count": 4,
      "metadata": {
        "pycharm": {
          "name": "#%%\n"
        },
        "colab": {
          "base_uri": "https://localhost:8080/",
          "height": 797
        },
        "id": "DVro5c60OJK0",
        "outputId": "046b9a26-a85f-4b6d-d6ba-08d1952f5094"
      },
      "outputs": [
        {
          "output_type": "stream",
          "name": "stdout",
          "text": [
            "                            OLS Regression Results                            \n",
            "==============================================================================\n",
            "Dep. Variable:                   medv   R-squared:                       0.544\n",
            "Model:                            OLS   Adj. R-squared:                  0.543\n",
            "Method:                 Least Squares   F-statistic:                     601.6\n",
            "Date:                Sun, 06 Feb 2022   Prob (F-statistic):           5.08e-88\n",
            "Time:                        17:38:56   Log-Likelihood:                -1641.5\n",
            "No. Observations:                 506   AIC:                             3287.\n",
            "Df Residuals:                     504   BIC:                             3295.\n",
            "Df Model:                           1                                         \n",
            "Covariance Type:            nonrobust                                         \n",
            "==============================================================================\n",
            "                 coef    std err          t      P>|t|      [0.025      0.975]\n",
            "------------------------------------------------------------------------------\n",
            "Intercept     34.5538      0.563     61.415      0.000      33.448      35.659\n",
            "lstat         -0.9500      0.039    -24.528      0.000      -1.026      -0.874\n",
            "==============================================================================\n",
            "Omnibus:                      137.043   Durbin-Watson:                   0.892\n",
            "Prob(Omnibus):                  0.000   Jarque-Bera (JB):              291.373\n",
            "Skew:                           1.453   Prob(JB):                     5.36e-64\n",
            "Kurtosis:                       5.319   Cond. No.                         29.7\n",
            "==============================================================================\n",
            "\n",
            "Warnings:\n",
            "[1] Standard Errors assume that the covariance matrix of the errors is correctly specified.\n"
          ]
        },
        {
          "output_type": "stream",
          "name": "stderr",
          "text": [
            "/usr/local/lib/python3.7/dist-packages/seaborn/_decorators.py:43: FutureWarning: Pass the following variables as keyword args: x, y, data. From version 0.12, the only valid positional argument will be `data`, and passing other arguments without an explicit keyword will result in an error or misinterpretation.\n",
            "  FutureWarning\n"
          ]
        },
        {
          "output_type": "display_data",
          "data": {
            "image/png": "[encoded data removed]",
            "text/plain": [
              "<Figure size 432x288 with 1 Axes>"
            ]
          },
          "metadata": {
            "needs_background": "light"
          }
        }
      ],
      "source": [
        "# You will need to change this for your environment\n",
        "DATA_ROOT = 'drive/MyDrive/Colab Notebooks/ALL CSV FILES - 2nd Edition/'\n",
        "df = pd.read_csv(DATA_ROOT + 'Boston.csv', index_col=0)\n",
        "df.head()\n",
        "\n",
        "# We will use the Boston house data from the text book in part of this lab. Here is a regression\n",
        "# of median house price against proportion of residents in a neighborhood in a lower economic demographic.\n",
        "lm = sm.OLS.from_formula('medv ~ lstat', df)\n",
        "result = lm.fit()\n",
        "\n",
        "print(result.summary())\n",
        "\n",
        "sns.regplot('lstat', 'medv', df)\n",
        "plt.show()"
      ]
    },
    {
      "cell_type": "code",
      "execution_count": 5,
      "metadata": {
        "pycharm": {
          "name": "#%%\n"
        },
        "colab": {
          "base_uri": "https://localhost:8080/",
          "height": 335
        },
        "id": "h1dRhjy0OJK1",
        "outputId": "38290280-ef32-4039-91c4-a41bef199232"
      },
      "outputs": [
        {
          "output_type": "stream",
          "name": "stderr",
          "text": [
            "/usr/local/lib/python3.7/dist-packages/seaborn/_decorators.py:43: FutureWarning: Pass the following variables as keyword args: x, y. From version 0.12, the only valid positional argument will be `data`, and passing other arguments without an explicit keyword will result in an error or misinterpretation.\n",
            "  FutureWarning\n"
          ]
        },
        {
          "output_type": "display_data",
          "data": {
            "image/png": "[encoded data removed]",
            "text/plain": [
              "<Figure size 432x288 with 1 Axes>"
            ]
          },
          "metadata": {
            "needs_background": "light"
          }
        }
      ],
      "source": [
        "# Plot residuals against fitted values\n",
        "# You can get the fitted values and the residuals as properties of the regression, among other properties\n",
        "\n",
        "fitted_values = pd.Series(result.fittedvalues, name=\"Fitted Values\")\n",
        "residuals = pd.Series(result.resid, name=\"Residuals\")\n",
        "sns.regplot(fitted_values, residuals, fit_reg=False)\n",
        "plt.show()"
      ]
    },
    {
      "cell_type": "markdown",
      "metadata": {
        "id": "99Qo0xPOOJK2"
      },
      "source": [
        "# Multiple Linear Regression"
      ]
    },
    {
      "cell_type": "code",
      "execution_count": 8,
      "metadata": {
        "pycharm": {
          "name": "#%%\n"
        },
        "colab": {
          "base_uri": "https://localhost:8080/"
        },
        "id": "Q269daKnOJK3",
        "outputId": "41bf495a-d7aa-417c-a169-4e2e36b2fcf0"
      },
      "outputs": [
        {
          "output_type": "stream",
          "name": "stdout",
          "text": [
            "                            OLS Regression Results                            \n",
            "==============================================================================\n",
            "Dep. Variable:                   medv   R-squared:                       0.551\n",
            "Model:                            OLS   Adj. R-squared:                  0.549\n",
            "Method:                 Least Squares   F-statistic:                     309.0\n",
            "Date:                Sun, 06 Feb 2022   Prob (F-statistic):           2.98e-88\n",
            "Time:                        17:48:57   Log-Likelihood:                -1637.5\n",
            "No. Observations:                 506   AIC:                             3281.\n",
            "Df Residuals:                     503   BIC:                             3294.\n",
            "Df Model:                           2                                         \n",
            "Covariance Type:            nonrobust                                         \n",
            "==============================================================================\n",
            "                 coef    std err          t      P>|t|      [0.025      0.975]\n",
            "------------------------------------------------------------------------------\n",
            "Intercept     33.2228      0.731     45.458      0.000      31.787      34.659\n",
            "lstat         -1.0321      0.048    -21.416      0.000      -1.127      -0.937\n",
            "age            0.0345      0.012      2.826      0.005       0.011       0.059\n",
            "==============================================================================\n",
            "Omnibus:                      124.288   Durbin-Watson:                   0.945\n",
            "Prob(Omnibus):                  0.000   Jarque-Bera (JB):              244.026\n",
            "Skew:                           1.362   Prob(JB):                     1.02e-53\n",
            "Kurtosis:                       5.038   Cond. No.                         201.\n",
            "==============================================================================\n",
            "\n",
            "Warnings:\n",
            "[1] Standard Errors assume that the covariance matrix of the errors is correctly specified.\n",
            "   df_resid           ssr  df_diff    ss_diff         F    Pr(>F)\n",
            "0     504.0  19472.381418      0.0        NaN       NaN       NaN\n",
            "1     503.0  19168.128609      1.0  304.25281  7.984043  0.004907\n"
          ]
        }
      ],
      "source": [
        "\n",
        "# Add one other feature to compare the regression fit\n",
        "m1 = sm.OLS.from_formula('medv ~ lstat + age', df)\n",
        "r1 = m1.fit()\n",
        "print(r1.summary())\n",
        "\n",
        "# We can use an ANOVA to test the null hypothesis that the regression using the squared term\n",
        "# does not improve the fit. For example, this ANOVA shows an F score of 135\n",
        "# and a p-value of virtually zero, indicating an improved fit\n",
        "print(sm.stats.anova_lm(result, r1))\n",
        "\n",
        "# The anova table shows F statistics and p-values for the null hypotheses that the\n",
        "# model with age as well as lstat fits the data as well as the first model, which\n",
        "# can be rejected with a p-value of 0.005\n",
        "\n"
      ]
    },
    {
      "cell_type": "code",
      "execution_count": 9,
      "metadata": {
        "colab": {
          "base_uri": "https://localhost:8080/"
        },
        "id": "Cma-o7fIOJK4",
        "outputId": "ffdf43fb-1fb8-4c13-a8b8-42fb3027c7de"
      },
      "outputs": [
        {
          "output_type": "stream",
          "name": "stdout",
          "text": [
            "                            OLS Regression Results                            \n",
            "==============================================================================\n",
            "Dep. Variable:                   medv   R-squared:                       0.734\n",
            "Model:                            OLS   Adj. R-squared:                  0.728\n",
            "Method:                 Least Squares   F-statistic:                     113.5\n",
            "Date:                Sun, 06 Feb 2022   Prob (F-statistic):          2.23e-133\n",
            "Time:                        17:49:02   Log-Likelihood:                -1504.9\n",
            "No. Observations:                 506   AIC:                             3036.\n",
            "Df Residuals:                     493   BIC:                             3091.\n",
            "Df Model:                          12                                         \n",
            "Covariance Type:            nonrobust                                         \n",
            "==============================================================================\n",
            "                 coef    std err          t      P>|t|      [0.025      0.975]\n",
            "------------------------------------------------------------------------------\n",
            "Intercept     41.6173      4.936      8.431      0.000      31.919      51.316\n",
            "age            0.0036      0.013      0.271      0.787      -0.023       0.030\n",
            "chas           2.8400      0.870      3.264      0.001       1.131       4.549\n",
            "crim          -0.1214      0.033     -3.678      0.000      -0.186      -0.057\n",
            "dis           -1.4908      0.202     -7.394      0.000      -1.887      -1.095\n",
            "indus          0.0135      0.062      0.217      0.829      -0.109       0.136\n",
            "lstat         -0.5520      0.051    -10.897      0.000      -0.652      -0.452\n",
            "nox          -18.7580      3.851     -4.870      0.000     -26.325     -11.191\n",
            "ptratio       -0.9375      0.132     -7.091      0.000      -1.197      -0.678\n",
            "rad            0.2894      0.067      4.325      0.000       0.158       0.421\n",
            "rm             3.6581      0.420      8.705      0.000       2.832       4.484\n",
            "tax           -0.0127      0.004     -3.337      0.001      -0.020      -0.005\n",
            "zn             0.0470      0.014      3.384      0.001       0.020       0.074\n",
            "==============================================================================\n",
            "Omnibus:                      171.096   Durbin-Watson:                   1.077\n",
            "Prob(Omnibus):                  0.000   Jarque-Bera (JB):              709.937\n",
            "Skew:                           1.477   Prob(JB):                    6.90e-155\n",
            "Kurtosis:                       7.995   Cond. No.                     1.17e+04\n",
            "==============================================================================\n",
            "\n",
            "Warnings:\n",
            "[1] Standard Errors assume that the covariance matrix of the errors is correctly specified.\n",
            "[2] The condition number is large, 1.17e+04. This might indicate that there are\n",
            "strong multicollinearity or other numerical problems.\n",
            "   df_resid           ssr  df_diff    ss_diff          F        Pr(>F)\n",
            "0     503.0  19168.128609      0.0        NaN        NaN           NaN\n",
            "1     493.0  11349.418808     10.0  7818.7098  33.963183  3.565625e-50\n"
          ]
        }
      ],
      "source": [
        "# Add all the other features:\n",
        "# This syntax lets us easily reference all the other columns save\n",
        "m2 = sm.OLS.from_formula('medv ~ ' + '+'.join(df.columns.difference(['medv'])), df)\n",
        "r2 = m2.fit()\n",
        "print(r2.summary())\n",
        "\n",
        "print(sm.stats.anova_lm(r1, r2))"
      ]
    },
    {
      "cell_type": "markdown",
      "metadata": {
        "id": "VmSqWpyLOJK4"
      },
      "source": [
        "# Questions 1-3"
      ]
    },
    {
      "cell_type": "markdown",
      "source": [
        "Question 1: can we reject the null hypothesis that the model for median value (medv)\n",
        "with all the fields fits the data no better than the model with only lstat and age? Why?\n",
        "\n",
        "We can reject the null hypothesis that the model for medv with all the fields fits the data no better than the model with only lstat and age because the r-squared is larger and the f-stat is smaller for the model with all the fields which means it better fits the data."
      ],
      "metadata": {
        "id": "qpWWVQScLqVo"
      }
    },
    {
      "cell_type": "markdown",
      "metadata": {
        "id": "hX5Cyp-BOJK4"
      },
      "source": [
        "Question 2: from the result of the second regression, which predictor variables would you\n",
        "drop from the regression? \n",
        "\n",
        "I would drop age and indus because their high p values indicate that they aren't statistically significant.\n",
        "\n"
      ]
    },
    {
      "cell_type": "code",
      "execution_count": 11,
      "metadata": {
        "scrolled": true,
        "colab": {
          "base_uri": "https://localhost:8080/"
        },
        "id": "frlVnwP6OJK5",
        "outputId": "1103b09c-f8ca-4c24-ca4d-329d81c4d25b"
      },
      "outputs": [
        {
          "output_type": "stream",
          "name": "stdout",
          "text": [
            "                            OLS Regression Results                            \n",
            "==============================================================================\n",
            "Dep. Variable:                   medv   R-squared:                       0.734\n",
            "Model:                            OLS   Adj. R-squared:                  0.729\n",
            "Method:                 Least Squares   F-statistic:                     136.8\n",
            "Date:                Sun, 06 Feb 2022   Prob (F-statistic):          1.73e-135\n",
            "Time:                        18:59:17   Log-Likelihood:                -1505.0\n",
            "No. Observations:                 506   AIC:                             3032.\n",
            "Df Residuals:                     495   BIC:                             3078.\n",
            "Df Model:                          10                                         \n",
            "Covariance Type:            nonrobust                                         \n",
            "==============================================================================\n",
            "                 coef    std err          t      P>|t|      [0.025      0.975]\n",
            "------------------------------------------------------------------------------\n",
            "Intercept     41.4517      4.903      8.454      0.000      31.818      51.086\n",
            "chas           2.8719      0.863      3.329      0.001       1.177       4.567\n",
            "crim          -0.1217      0.033     -3.696      0.000      -0.186      -0.057\n",
            "dis           -1.5160      0.188     -8.078      0.000      -1.885      -1.147\n",
            "lstat         -0.5465      0.047    -11.519      0.000      -0.640      -0.453\n",
            "nox          -18.2624      3.565     -5.122      0.000     -25.267     -11.258\n",
            "ptratio       -0.9310      0.130     -7.138      0.000      -1.187      -0.675\n",
            "rad            0.2839      0.064      4.440      0.000       0.158       0.410\n",
            "rm             3.6730      0.409      8.978      0.000       2.869       4.477\n",
            "tax           -0.0123      0.003     -3.608      0.000      -0.019      -0.006\n",
            "zn             0.0462      0.014      3.378      0.001       0.019       0.073\n",
            "==============================================================================\n",
            "Omnibus:                      172.594   Durbin-Watson:                   1.074\n",
            "Prob(Omnibus):                  0.000   Jarque-Bera (JB):              725.971\n",
            "Skew:                           1.486   Prob(JB):                    2.28e-158\n",
            "Kurtosis:                       8.060   Cond. No.                     1.13e+04\n",
            "==============================================================================\n",
            "\n",
            "Warnings:\n",
            "[1] Standard Errors assume that the covariance matrix of the errors is correctly specified.\n",
            "[2] The condition number is large, 1.13e+04. This might indicate that there are\n",
            "strong multicollinearity or other numerical problems.\n"
          ]
        }
      ],
      "source": [
        "print(sm.OLS.from_formula('medv ~ ' + '+'.join(df.columns.difference(['medv', 'age', 'indus'])), df).fit().summary())\n",
        "\n",
        "# Insert your own model here or edit above"
      ]
    },
    {
      "cell_type": "markdown",
      "metadata": {
        "id": "XQo__pMoOJK6"
      },
      "source": [
        "Question 3: After you drop these variables, what is the R-squared and how does it compare to the\n",
        "full R-squared and that of the model with lstat and age?\n",
        "\n",
        "\n",
        "After you drop age and industry, the R-squared increases. It is approximately the same as the R-squared of the regression with all of the variables because we are simply removing the less correlated variables and it is larger than the R-squared of the model with lstat and age because it has more predictive variables than the original model. \n"
      ]
    },
    {
      "cell_type": "markdown",
      "metadata": {
        "id": "nXnk_b5UOJK6"
      },
      "source": [
        "# Interaction terms\n"
      ]
    },
    {
      "cell_type": "code",
      "execution_count": 10,
      "metadata": {
        "pycharm": {
          "name": "#%%\n"
        },
        "colab": {
          "base_uri": "https://localhost:8080/"
        },
        "id": "S8oOo5Y-OJK7",
        "outputId": "bdfaae97-534e-4879-b8cf-95f4071f6cd8"
      },
      "outputs": [
        {
          "output_type": "stream",
          "name": "stdout",
          "text": [
            "                            OLS Regression Results                            \n",
            "==============================================================================\n",
            "Dep. Variable:                   medv   R-squared:                       0.556\n",
            "Model:                            OLS   Adj. R-squared:                  0.553\n",
            "Method:                 Least Squares   F-statistic:                     209.3\n",
            "Date:                Sun, 06 Feb 2022   Prob (F-statistic):           4.86e-88\n",
            "Time:                        18:38:27   Log-Likelihood:                -1635.0\n",
            "No. Observations:                 506   AIC:                             3278.\n",
            "Df Residuals:                     502   BIC:                             3295.\n",
            "Df Model:                           3                                         \n",
            "Covariance Type:            nonrobust                                         \n",
            "==============================================================================\n",
            "                 coef    std err          t      P>|t|      [0.025      0.975]\n",
            "------------------------------------------------------------------------------\n",
            "Intercept     36.0885      1.470     24.553      0.000      33.201      38.976\n",
            "lstat         -1.3921      0.167     -8.313      0.000      -1.721      -1.063\n",
            "age           -0.0007      0.020     -0.036      0.971      -0.040       0.038\n",
            "lstat:age      0.0042      0.002      2.244      0.025       0.001       0.008\n",
            "==============================================================================\n",
            "Omnibus:                      135.601   Durbin-Watson:                   0.965\n",
            "Prob(Omnibus):                  0.000   Jarque-Bera (JB):              296.955\n",
            "Skew:                           1.417   Prob(JB):                     3.29e-65\n",
            "Kurtosis:                       5.461   Cond. No.                     6.88e+03\n",
            "==============================================================================\n",
            "\n",
            "Warnings:\n",
            "[1] Standard Errors assume that the covariance matrix of the errors is correctly specified.\n",
            "[2] The condition number is large, 6.88e+03. This might indicate that there are\n",
            "strong multicollinearity or other numerical problems.\n"
          ]
        }
      ],
      "source": [
        "# You can include interaction terms in the regression formula with a '*'. For example,\n",
        "# this regression includes lstat * age, and automatically includes both lstat and age.\n",
        "print(sm.OLS.from_formula('medv ~ lstat*age', df).fit().summary())\n",
        "\n"
      ]
    },
    {
      "cell_type": "markdown",
      "metadata": {
        "id": "eje0LnveOJK7"
      },
      "source": [
        "# Question 4"
      ]
    },
    {
      "cell_type": "markdown",
      "metadata": {
        "id": "daTidlFOOJK8"
      },
      "source": [
        "Question 4: Based on the regression graph of medv regressed onto lstat in the second cell, above, would\n",
        "you expect that including a squared term for lstat might be useful for the model? Why?\n",
        "\n",
        "Yes, I would expect that including a squared term for lstat would make the model better predictive because the dataset isn't perfectly linear the squared term better encapsulates more of the data. This was shown to be true with the increase in the R-squared from .544 to .641."
      ]
    },
    {
      "cell_type": "code",
      "execution_count": 12,
      "metadata": {
        "colab": {
          "base_uri": "https://localhost:8080/"
        },
        "id": "IDik-wrPOJK8",
        "outputId": "361dde79-4526-4f90-a6d7-3afb3988f5d7"
      },
      "outputs": [
        {
          "output_type": "stream",
          "name": "stdout",
          "text": [
            "                            OLS Regression Results                            \n",
            "==============================================================================\n",
            "Dep. Variable:                   medv   R-squared:                       0.641\n",
            "Model:                            OLS   Adj. R-squared:                  0.639\n",
            "Method:                 Least Squares   F-statistic:                     448.5\n",
            "Date:                Sun, 06 Feb 2022   Prob (F-statistic):          1.56e-112\n",
            "Time:                        19:26:01   Log-Likelihood:                -1581.3\n",
            "No. Observations:                 506   AIC:                             3169.\n",
            "Df Residuals:                     503   BIC:                             3181.\n",
            "Df Model:                           2                                         \n",
            "Covariance Type:            nonrobust                                         \n",
            "====================================================================================\n",
            "                       coef    std err          t      P>|t|      [0.025      0.975]\n",
            "------------------------------------------------------------------------------------\n",
            "Intercept           42.8620      0.872     49.149      0.000      41.149      44.575\n",
            "lstat               -2.3328      0.124    -18.843      0.000      -2.576      -2.090\n",
            "np.square(lstat)     0.0435      0.004     11.628      0.000       0.036       0.051\n",
            "==============================================================================\n",
            "Omnibus:                      107.006   Durbin-Watson:                   0.921\n",
            "Prob(Omnibus):                  0.000   Jarque-Bera (JB):              228.388\n",
            "Skew:                           1.128   Prob(JB):                     2.55e-50\n",
            "Kurtosis:                       5.397   Cond. No.                     1.13e+03\n",
            "==============================================================================\n",
            "\n",
            "Warnings:\n",
            "[1] Standard Errors assume that the covariance matrix of the errors is correctly specified.\n",
            "[2] The condition number is large, 1.13e+03. This might indicate that there are\n",
            "strong multicollinearity or other numerical problems.\n"
          ]
        }
      ],
      "source": [
        "# You can also include functions of predictor variables. For example, this version\n",
        "# includes a squared term for lstat\n",
        "lm.fit2 = sm.OLS.from_formula('medv ~ lstat + np.square(lstat)', df).fit()\n",
        "print(lm.fit2.summary())\n"
      ]
    },
    {
      "cell_type": "code",
      "execution_count": null,
      "metadata": {
        "id": "p9kaCFQ9OJK8"
      },
      "outputs": [],
      "source": [
        "print(sm.stats.anova_lm(result, lm.fit2))\n"
      ]
    },
    {
      "cell_type": "markdown",
      "metadata": {
        "id": "R0YWSv3NOJK9"
      },
      "source": [
        "# Qualitative variables\n"
      ]
    },
    {
      "cell_type": "code",
      "execution_count": 15,
      "metadata": {
        "pycharm": {
          "name": "#%%\n"
        },
        "colab": {
          "base_uri": "https://localhost:8080/",
          "height": 206
        },
        "id": "SFLefJJAOJK9",
        "outputId": "4cfcb815-5a3d-4b8c-9e99-4daf0c7efa77"
      },
      "outputs": [
        {
          "output_type": "execute_result",
          "data": {
            "text/html": [
              "\n",
              "  <div id=\"df-226e5256-65c9-4faf-9f64-2f82983bb8ef\">\n",
              "    <div class=\"colab-df-container\">\n",
              "      <div>\n",
              "<style scoped>\n",
              "    .dataframe tbody tr th:only-of-type {\n",
              "        vertical-align: middle;\n",
              "    }\n",
              "\n",
              "    .dataframe tbody tr th {\n",
              "        vertical-align: top;\n",
              "    }\n",
              "\n",
              "    .dataframe thead th {\n",
              "        text-align: right;\n",
              "    }\n",
              "</style>\n",
              "<table border=\"1\" class=\"dataframe\">\n",
              "  <thead>\n",
              "    <tr style=\"text-align: right;\">\n",
              "      <th></th>\n",
              "      <th>Sales</th>\n",
              "      <th>CompPrice</th>\n",
              "      <th>Income</th>\n",
              "      <th>Advertising</th>\n",
              "      <th>Population</th>\n",
              "      <th>Price</th>\n",
              "      <th>ShelveLoc</th>\n",
              "      <th>Age</th>\n",
              "      <th>Education</th>\n",
              "      <th>Urban</th>\n",
              "      <th>US</th>\n",
              "    </tr>\n",
              "  </thead>\n",
              "  <tbody>\n",
              "    <tr>\n",
              "      <th>0</th>\n",
              "      <td>9.50</td>\n",
              "      <td>138</td>\n",
              "      <td>73</td>\n",
              "      <td>11</td>\n",
              "      <td>276</td>\n",
              "      <td>120</td>\n",
              "      <td>Bad</td>\n",
              "      <td>42</td>\n",
              "      <td>17</td>\n",
              "      <td>Yes</td>\n",
              "      <td>Yes</td>\n",
              "    </tr>\n",
              "    <tr>\n",
              "      <th>1</th>\n",
              "      <td>11.22</td>\n",
              "      <td>111</td>\n",
              "      <td>48</td>\n",
              "      <td>16</td>\n",
              "      <td>260</td>\n",
              "      <td>83</td>\n",
              "      <td>Good</td>\n",
              "      <td>65</td>\n",
              "      <td>10</td>\n",
              "      <td>Yes</td>\n",
              "      <td>Yes</td>\n",
              "    </tr>\n",
              "    <tr>\n",
              "      <th>2</th>\n",
              "      <td>10.06</td>\n",
              "      <td>113</td>\n",
              "      <td>35</td>\n",
              "      <td>10</td>\n",
              "      <td>269</td>\n",
              "      <td>80</td>\n",
              "      <td>Medium</td>\n",
              "      <td>59</td>\n",
              "      <td>12</td>\n",
              "      <td>Yes</td>\n",
              "      <td>Yes</td>\n",
              "    </tr>\n",
              "    <tr>\n",
              "      <th>3</th>\n",
              "      <td>7.40</td>\n",
              "      <td>117</td>\n",
              "      <td>100</td>\n",
              "      <td>4</td>\n",
              "      <td>466</td>\n",
              "      <td>97</td>\n",
              "      <td>Medium</td>\n",
              "      <td>55</td>\n",
              "      <td>14</td>\n",
              "      <td>Yes</td>\n",
              "      <td>Yes</td>\n",
              "    </tr>\n",
              "    <tr>\n",
              "      <th>4</th>\n",
              "      <td>4.15</td>\n",
              "      <td>141</td>\n",
              "      <td>64</td>\n",
              "      <td>3</td>\n",
              "      <td>340</td>\n",
              "      <td>128</td>\n",
              "      <td>Bad</td>\n",
              "      <td>38</td>\n",
              "      <td>13</td>\n",
              "      <td>Yes</td>\n",
              "      <td>No</td>\n",
              "    </tr>\n",
              "  </tbody>\n",
              "</table>\n",
              "</div>\n",
              "      <button class=\"colab-df-convert\" onclick=\"convertToInteractive('df-226e5256-65c9-4faf-9f64-2f82983bb8ef')\"\n",
              "              title=\"Convert this dataframe to an interactive table.\"\n",
              "              style=\"display:none;\">\n",
              "        \n",
              "  <svg xmlns=\"http://www.w3.org/2000/svg\" height=\"24px\"viewBox=\"0 0 24 24\"\n",
              "       width=\"24px\">\n",
              "    <path d=\"M0 0h24v24H0V0z\" fill=\"none\"/>\n",
              "    <path d=\"M18.56 5.44l.94 2.06.94-2.06 2.06-.94-2.06-.94-.94-2.06-.94 2.06-2.06.94zm-11 1L8.5 8.5l.94-2.06 2.06-.94-2.06-.94L8.5 2.5l-.94 2.06-2.06.94zm10 10l.94 2.06.94-2.06 2.06-.94-2.06-.94-.94-2.06-.94 2.06-2.06.94z\"/><path d=\"M17.41 7.96l-1.37-1.37c-.4-.4-.92-.59-1.43-.59-.52 0-1.04.2-1.43.59L10.3 9.45l-7.72 7.72c-.78.78-.78 2.05 0 2.83L4 21.41c.39.39.9.59 1.41.59.51 0 1.02-.2 1.41-.59l7.78-7.78 2.81-2.81c.8-.78.8-2.07 0-2.86zM5.41 20L4 18.59l7.72-7.72 1.47 1.35L5.41 20z\"/>\n",
              "  </svg>\n",
              "      </button>\n",
              "      \n",
              "  <style>\n",
              "    .colab-df-container {\n",
              "      display:flex;\n",
              "      flex-wrap:wrap;\n",
              "      gap: 12px;\n",
              "    }\n",
              "\n",
              "    .colab-df-convert {\n",
              "      background-color: #E8F0FE;\n",
              "      border: none;\n",
              "      border-radius: 50%;\n",
              "      cursor: pointer;\n",
              "      display: none;\n",
              "      fill: #1967D2;\n",
              "      height: 32px;\n",
              "      padding: 0 0 0 0;\n",
              "      width: 32px;\n",
              "    }\n",
              "\n",
              "    .colab-df-convert:hover {\n",
              "      background-color: #E2EBFA;\n",
              "      box-shadow: 0px 1px 2px rgba(60, 64, 67, 0.3), 0px 1px 3px 1px rgba(60, 64, 67, 0.15);\n",
              "      fill: #174EA6;\n",
              "    }\n",
              "\n",
              "    [theme=dark] .colab-df-convert {\n",
              "      background-color: #3B4455;\n",
              "      fill: #D2E3FC;\n",
              "    }\n",
              "\n",
              "    [theme=dark] .colab-df-convert:hover {\n",
              "      background-color: #434B5C;\n",
              "      box-shadow: 0px 1px 3px 1px rgba(0, 0, 0, 0.15);\n",
              "      filter: drop-shadow(0px 1px 2px rgba(0, 0, 0, 0.3));\n",
              "      fill: #FFFFFF;\n",
              "    }\n",
              "  </style>\n",
              "\n",
              "      <script>\n",
              "        const buttonEl =\n",
              "          document.querySelector('#df-226e5256-65c9-4faf-9f64-2f82983bb8ef button.colab-df-convert');\n",
              "        buttonEl.style.display =\n",
              "          google.colab.kernel.accessAllowed ? 'block' : 'none';\n",
              "\n",
              "        async function convertToInteractive(key) {\n",
              "          const element = document.querySelector('#df-226e5256-65c9-4faf-9f64-2f82983bb8ef');\n",
              "          const dataTable =\n",
              "            await google.colab.kernel.invokeFunction('convertToInteractive',\n",
              "                                                     [key], {});\n",
              "          if (!dataTable) return;\n",
              "\n",
              "          const docLinkHtml = 'Like what you see? Visit the ' +\n",
              "            '<a target=\"_blank\" href=https://colab.research.google.com/notebooks/data_table.ipynb>data table notebook</a>'\n",
              "            + ' to learn more about interactive tables.';\n",
              "          element.innerHTML = '';\n",
              "          dataTable['output_type'] = 'display_data';\n",
              "          await google.colab.output.renderOutput(dataTable, element);\n",
              "          const docLink = document.createElement('div');\n",
              "          docLink.innerHTML = docLinkHtml;\n",
              "          element.appendChild(docLink);\n",
              "        }\n",
              "      </script>\n",
              "    </div>\n",
              "  </div>\n",
              "  "
            ],
            "text/plain": [
              "   Sales  CompPrice  Income  Advertising  ...  Age  Education Urban   US\n",
              "0   9.50        138      73           11  ...   42         17   Yes  Yes\n",
              "1  11.22        111      48           16  ...   65         10   Yes  Yes\n",
              "2  10.06        113      35           10  ...   59         12   Yes  Yes\n",
              "3   7.40        117     100            4  ...   55         14   Yes  Yes\n",
              "4   4.15        141      64            3  ...   38         13   Yes   No\n",
              "\n",
              "[5 rows x 11 columns]"
            ]
          },
          "metadata": {},
          "execution_count": 15
        }
      ],
      "source": [
        "# We turn now to a new data set from the text book, on number of car seats sold,\n",
        "# which includes three qualitative variables.\n",
        "# Recall you may need to modify this line to load the data on your setup:\n",
        "\n",
        "df2 = pd.read_csv(DATA_ROOT + 'Carseats.csv')\n",
        "df2.head()"
      ]
    },
    {
      "cell_type": "code",
      "execution_count": 16,
      "metadata": {
        "pycharm": {
          "name": "#%%\n"
        },
        "colab": {
          "base_uri": "https://localhost:8080/"
        },
        "id": "tKELoUKYOJK9",
        "outputId": "44f36f9b-c9b2-42aa-aee2-c67ccfe19154"
      },
      "outputs": [
        {
          "output_type": "stream",
          "name": "stdout",
          "text": [
            "                            OLS Regression Results                            \n",
            "==============================================================================\n",
            "Dep. Variable:                  Sales   R-squared:                       0.873\n",
            "Model:                            OLS   Adj. R-squared:                  0.870\n",
            "Method:                 Least Squares   F-statistic:                     243.4\n",
            "Date:                Sun, 06 Feb 2022   Prob (F-statistic):          1.60e-166\n",
            "Time:                        19:41:35   Log-Likelihood:                -568.99\n",
            "No. Observations:                 400   AIC:                             1162.\n",
            "Df Residuals:                     388   BIC:                             1210.\n",
            "Df Model:                          11                                         \n",
            "Covariance Type:            nonrobust                                         \n",
            "=======================================================================================\n",
            "                          coef    std err          t      P>|t|      [0.025      0.975]\n",
            "---------------------------------------------------------------------------------------\n",
            "Intercept               5.6606      0.603      9.380      0.000       4.474       6.847\n",
            "ShelveLoc[T.Good]       4.8502      0.153     31.678      0.000       4.549       5.151\n",
            "ShelveLoc[T.Medium]     1.9567      0.126     15.516      0.000       1.709       2.205\n",
            "US[T.Yes]              -0.1841      0.150     -1.229      0.220      -0.479       0.111\n",
            "Urban[T.Yes]            0.1229      0.113      1.088      0.277      -0.099       0.345\n",
            "Advertising             0.1231      0.011     11.066      0.000       0.101       0.145\n",
            "Age                    -0.0460      0.003    -14.472      0.000      -0.052      -0.040\n",
            "CompPrice               0.0928      0.004     22.378      0.000       0.085       0.101\n",
            "Education              -0.0211      0.020     -1.070      0.285      -0.060       0.018\n",
            "Income                  0.0158      0.002      8.565      0.000       0.012       0.019\n",
            "Population              0.0002      0.000      0.561      0.575      -0.001       0.001\n",
            "Price                  -0.0954      0.003    -35.700      0.000      -0.101      -0.090\n",
            "==============================================================================\n",
            "Omnibus:                        0.811   Durbin-Watson:                   2.013\n",
            "Prob(Omnibus):                  0.667   Jarque-Bera (JB):                0.765\n",
            "Skew:                           0.107   Prob(JB):                        0.682\n",
            "Kurtosis:                       2.994   Cond. No.                     4.15e+03\n",
            "==============================================================================\n",
            "\n",
            "Warnings:\n",
            "[1] Standard Errors assume that the covariance matrix of the errors is correctly specified.\n",
            "[2] The condition number is large, 4.15e+03. This might indicate that there are\n",
            "strong multicollinearity or other numerical problems.\n"
          ]
        }
      ],
      "source": [
        "# The regression defined with the from_formula call automatically converts the\n",
        "# three categorical variables to dummy variables.\n",
        "\n",
        "print(sm.OLS.from_formula('Sales ~  ' + \"+\".join(df2.columns.difference(['Sales'])), df2).fit().summary())\n"
      ]
    },
    {
      "cell_type": "markdown",
      "metadata": {
        "id": "YWo0opqeOJK-"
      },
      "source": [
        "# Question 5"
      ]
    },
    {
      "cell_type": "markdown",
      "metadata": {
        "id": "hFjGPKECOJK-"
      },
      "source": [
        "Question 5: Why are there two variables for Shelving location included in the\n",
        "regression? Which variables would you consider dropping from this regression?\n",
        "\n",
        "There are two variables because it is categorical data with 3 labels which can be caputured by two one-hot encoded sections. Adding a third variable isn't necessary because there are two degrees of freedom with the shelving data.\n",
        "\n",
        "I would consider dropping US, Urban, Education, and Population because their P values are too large to likely be statistically significant.\n"
      ]
    },
    {
      "cell_type": "code",
      "execution_count": 19,
      "metadata": {
        "colab": {
          "base_uri": "https://localhost:8080/"
        },
        "id": "3JqHlfYkOJK_",
        "outputId": "89e8e13e-1ea4-4c12-caab-c75a86231398"
      },
      "outputs": [
        {
          "output_type": "stream",
          "name": "stdout",
          "text": [
            "                            OLS Regression Results                            \n",
            "==============================================================================\n",
            "Dep. Variable:                  Sales   R-squared:                       0.872\n",
            "Model:                            OLS   Adj. R-squared:                  0.870\n",
            "Method:                 Least Squares   F-statistic:                     381.4\n",
            "Date:                Sun, 06 Feb 2022   Prob (F-statistic):          1.25e-170\n",
            "Time:                        20:04:21   Log-Likelihood:                -571.24\n",
            "No. Observations:                 400   AIC:                             1158.\n",
            "Df Residuals:                     392   BIC:                             1190.\n",
            "Df Model:                           7                                         \n",
            "Covariance Type:            nonrobust                                         \n",
            "=======================================================================================\n",
            "                          coef    std err          t      P>|t|      [0.025      0.975]\n",
            "---------------------------------------------------------------------------------------\n",
            "Intercept               5.4752      0.505     10.842      0.000       4.482       6.468\n",
            "ShelveLoc[T.Good]       4.8357      0.152     31.710      0.000       4.536       5.135\n",
            "ShelveLoc[T.Medium]     1.9520      0.125     15.569      0.000       1.706       2.198\n",
            "Advertising             0.1159      0.008     15.006      0.000       0.101       0.131\n",
            "Age                    -0.0461      0.003    -14.521      0.000      -0.052      -0.040\n",
            "CompPrice               0.0926      0.004     22.451      0.000       0.084       0.101\n",
            "Income                  0.0158      0.002      8.590      0.000       0.012       0.019\n",
            "Price                  -0.0953      0.003    -35.699      0.000      -0.101      -0.090\n",
            "==============================================================================\n",
            "Omnibus:                        0.766   Durbin-Watson:                   1.988\n",
            "Prob(Omnibus):                  0.682   Jarque-Bera (JB):                0.810\n",
            "Skew:                           0.104   Prob(JB):                        0.667\n",
            "Kurtosis:                       2.929   Cond. No.                     1.91e+03\n",
            "==============================================================================\n",
            "\n",
            "Warnings:\n",
            "[1] Standard Errors assume that the covariance matrix of the errors is correctly specified.\n",
            "[2] The condition number is large, 1.91e+03. This might indicate that there are\n",
            "strong multicollinearity or other numerical problems.\n"
          ]
        }
      ],
      "source": [
        "# You can show the result of dropping the variables you suggest here (not scored)\n",
        "\n",
        "print(sm.OLS.from_formula('Sales ~  ' + \"+\".join(df2.columns.difference(['Sales', 'US','Urban','Education','Population'])), df2).fit().summary())"
      ]
    }
  ],
  "metadata": {
    "kernelspec": {
      "display_name": "Python 3",
      "language": "python",
      "name": "python3"
    },
    "language_info": {
      "codemirror_mode": {
        "name": "ipython",
        "version": 3
      },
      "file_extension": ".py",
      "mimetype": "text/x-python",
      "name": "python",
      "nbconvert_exporter": "python",
      "pygments_lexer": "ipython3",
      "version": "3.7.6"
    },
    "colab": {
      "name": "lab1.ipynb",
      "provenance": [],
      "include_colab_link": true
    }
  },
  "nbformat": 4,
  "nbformat_minor": 0
}